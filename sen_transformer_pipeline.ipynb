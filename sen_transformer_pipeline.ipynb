{
 "cells": [
  {
   "cell_type": "code",
   "execution_count": null,
   "id": "fbcfff06",
   "metadata": {},
   "outputs": [],
   "source": [
    "from typing import Any, List, Dict\n",
    "from sentence_transformers import SentenceTransformer\n",
    "from sklearn.cluster import KMeans\n",
    "from db_connections.pg_sql import session, Ticket\n",
    "import numpy as np\n"
   ]
  },
  {
   "cell_type": "code",
   "execution_count": null,
   "id": "b9a6c5b1",
   "metadata": {},
   "outputs": [],
   "source": [
    "EMBEDDING_MODEL_NAME = 'all-MiniLM-L6-v2'\n",
    "EMBEDDING_DIM = 768\n",
    "N_CLUSTERS = 2"
   ]
  },
  {
   "cell_type": "code",
   "execution_count": 30,
   "id": "5315b077",
   "metadata": {},
   "outputs": [],
   "source": [
    "sample_tickets = [\n",
    "    {\"ticket_id\": \"1\", \"text\": \"Cannot connect to the company VPN, it keeps saying authentication failed.\", \"category\": \"Network\"},\n",
    "    {\"ticket_id\": \"2\", \"text\": \"My Microsoft Outlook is not opening, it crashes on startup.\", \"category\": \"Software\"},\n",
    "    {\"ticket_id\": \"3\", \"text\": \"The new laptop I received won't boot up, it shows a black screen.\", \"category\": \"Hardware\"},\n",
    "    {\"ticket_id\": \"4\", \"text\": \"I'm unable to access the shared drive, it says permission denied.\", \"category\": \"Network\"},\n",
    "    {\"ticket_id\": \"5\", \"text\": \"Excel is freezing frequently when I work with large spreadsheets.\", \"category\": \"Software\"},\n",
    "    {\"ticket_id\": \"6\", \"text\": \"The printer on the 3rd floor is not working, documents are stuck in queue.\", \"category\": \"Hardware\"},\n",
    "    {\"ticket_id\": \"7\", \"text\": \"How do I reset my domain password?\", \"category\": \"Account\"},\n",
    "]"
   ]
  },
  {
   "cell_type": "code",
   "execution_count": 41,
   "id": "5eb6b0c2",
   "metadata": {},
   "outputs": [],
   "source": [
    "sample_tickets = [\n",
    "    {\"ticket_id\": \"1\", \"text\": \"Cannot connect to the company VPN, it keeps saying authentication failed.\", \"category\": \"Network\"},\n",
    "    {\"ticket_id\": \"2\", \"text\": \"My Microsoft Outlook is not opening, it crashes on startup.\", \"category\": \"Software\"},\n",
    "]"
   ]
  },
  {
   "cell_type": "code",
   "execution_count": null,
   "id": "ea81bb26",
   "metadata": {},
   "outputs": [],
   "source": [
    "def process_and_store_to_pgvector(tickets: List[Dict[str, Any]], model: SentenceTransformer, kmeans: KMeans):\n",
    "    texts = [ticket['text'] for ticket in tickets]\n",
    "    embeddings = model.encode(texts, show_progress_bar=True)\n",
    "    print(f\"embedding shPE: {embeddings.shape}\")\n",
    "    cluster_ids = kmeans.fit_predict(embeddings)\n",
    "\n",
    "    for i, ticket in enumerate(tickets):\n",
    "        embedding = np.array(embeddings[i], dtype=np.float32)\n",
    "        new_ticket = Ticket(\n",
    "            ticket_id=ticket['ticket_id'],\n",
    "            text=ticket['text'],\n",
    "            embedding=embedding\n",
    "        )\n",
    "        \n",
    "        session.add(new_ticket)\n",
    "\n",
    "    session.commit()\n",
    "    print(f\"Inserted {len(tickets)} tickets into PostgreSQL with pgvector.\")"
   ]
  },
  {
   "cell_type": "code",
   "execution_count": 32,
   "id": "2584e854",
   "metadata": {},
   "outputs": [],
   "source": [
    "\n",
    "def query_similar_from_pgvector(query: str, model: SentenceTransformer, top_k: int = 3):\n",
    "    query_vector = np.array(model.encode([query])[0], dtype=np.float32)\n",
    "\n",
    "    sql = f\"\"\"\n",
    "    SELECT id, ticket_id, text,\n",
    "           embedding <#> cube(:query_embedding) as distance\n",
    "    FROM tickets\n",
    "    ORDER BY embedding <#> cube(:query_embedding)\n",
    "    LIMIT :top_k;\n",
    "    \"\"\"\n",
    "\n",
    "    result = session.execute(\n",
    "        sql,\n",
    "        {\"query_embedding\": query_vector.tolist(), \"top_k\": top_k}\n",
    "    )\n",
    "\n",
    "    print(\"Search Results:\")\n",
    "    for row in result:\n",
    "        print(f\"ID: {row.id}, Ticket ID: {row.ticket_id}, Text: {row.text}, Distance: {row.distance:.4f}\")\n"
   ]
  },
  {
   "cell_type": "code",
   "execution_count": null,
   "id": "c6469861",
   "metadata": {},
   "outputs": [],
   "source": []
  },
  {
   "cell_type": "code",
   "execution_count": 48,
   "id": "494e9677",
   "metadata": {},
   "outputs": [
    {
     "name": "stderr",
     "output_type": "stream",
     "text": [
      "Batches: 100%|██████████| 1/1 [00:00<00:00, 40.87it/s]"
     ]
    },
    {
     "name": "stdout",
     "output_type": "stream",
     "text": [
      "embedding shPE: (2, 384)\n"
     ]
    },
    {
     "name": "stderr",
     "output_type": "stream",
     "text": [
      "\n"
     ]
    },
    {
     "ename": "PendingRollbackError",
     "evalue": "This Session's transaction has been rolled back due to a previous exception during flush. To begin a new transaction with this Session, first issue Session.rollback(). Original exception was: (builtins.ValueError) expected 768 dimensions, not 384\n[SQL: INSERT INTO tickets (ticket_id, text, embedding) SELECT p0::VARCHAR, p1::VARCHAR, p2::VECTOR(768) FROM (VALUES (%(ticket_id)s, %(text)s, %(embedding)s)) AS imp_sen(p0, p1, p2, sen_counter) ORDER BY sen_counter RETURNING tickets.id, tickets.id AS id__1]\n[parameters: [{'embedding': array([-6.63655475e-02,  3.42290588e-02,  1.24685112e-02, -2.55581066e-02,\n       -4.58992943e-02,  2.31425129e-02,  3.60830836e-02, -3. ... (7039 characters truncated) ... 45e-02,  4.56833746e-03],\n      dtype=float32), 'text': 'Cannot connect to the company VPN, it keeps saying authentication failed.', 'ticket_id': '1'}, {'embedding': array([ 3.21427062e-02, -4.40553539e-02,  2.69629080e-02,  1.07551329e-02,\n        1.67914126e-02, -3.76561992e-02, -3.93719375e-02,  4. ... (7025 characters truncated) ... -02,  2.12958250e-02, -3.29278223e-02],\n      dtype=float32), 'text': 'My Microsoft Outlook is not opening, it crashes on startup.', 'ticket_id': '2'}, {'embedding': array([-1.92928594e-02, -2.24530920e-02,  3.24990181e-03, -3.92881781e-02,\n        6.01377450e-02, -2.12627649e-03, -6.90801889e-02, -2. ... (7031 characters truncated) ... 5.04368730e-03, -7.34494580e-03],\n      dtype=float32), 'text': \"The new laptop I received won't boot up, it shows a black screen.\", 'ticket_id': '3'}, {'embedding': array([ 1.85625274e-02,  5.95447794e-02, -8.71186319e-04, -1.81658249e-02,\n       -2.79050320e-02,  5.88835329e-02, -7.10095093e-02, -2. ... (7031 characters truncated) ... 8.74158293e-02,  7.05249161e-02],\n      dtype=float32), 'text': \"I'm unable to access the shared drive, it says permission denied.\", 'ticket_id': '4'}, {'embedding': array([ 9.29281395e-03,  1.54157476e-02, -5.10715730e-02, -1.08511522e-02,\n        1.29002603e-02, -4.73905951e-02, -1.28359303e-01,  3. ... (7031 characters truncated) ... 6.66601732e-02,  3.39323357e-02],\n      dtype=float32), 'text': 'Excel is freezing frequently when I work with large spreadsheets.', 'ticket_id': '5'}, {'embedding': array([-4.92093898e-02, -2.78321560e-02, -8.86119455e-02,  2.39728019e-02,\n       -8.28019343e-04, -4.95178290e-02, -7.22196698e-02, -5. ... (7040 characters truncated) ... 6e-02,  3.13547179e-02],\n      dtype=float32), 'text': 'The printer on the 3rd floor is not working, documents are stuck in queue.', 'ticket_id': '6'}, {'embedding': array([ 6.32430008e-03, -6.00010566e-02, -4.80055101e-02, -8.23722258e-02,\n       -4.09136489e-02,  8.35997111e-04, -4.75735664e-02, -4. ... (7000 characters truncated) ... 1319359e-02,  5.71280122e-02, -3.80178951e-02, -3.89298834e-02],\n      dtype=float32), 'text': 'How do I reset my domain password?', 'ticket_id': '7'}]] (Background on this error at: https://sqlalche.me/e/20/7s2a)",
     "output_type": "error",
     "traceback": [
      "\u001b[31m---------------------------------------------------------------------------\u001b[39m",
      "\u001b[31mPendingRollbackError\u001b[39m                      Traceback (most recent call last)",
      "\u001b[36mCell\u001b[39m\u001b[36m \u001b[39m\u001b[32mIn[48]\u001b[39m\u001b[32m, line 3\u001b[39m\n\u001b[32m      1\u001b[39m sbert_model = SentenceTransformer(EMBEDDING_MODEL_NAME)\n\u001b[32m      2\u001b[39m kmeans = KMeans(n_clusters=\u001b[32m1\u001b[39m, random_state=\u001b[32m42\u001b[39m, n_init=\u001b[33m'\u001b[39m\u001b[33mauto\u001b[39m\u001b[33m'\u001b[39m)\n\u001b[32m----> \u001b[39m\u001b[32m3\u001b[39m \u001b[43mprocess_and_store_to_pgvector\u001b[49m\u001b[43m(\u001b[49m\u001b[43msample_tickets\u001b[49m\u001b[43m,\u001b[49m\u001b[43m \u001b[49m\u001b[43msbert_model\u001b[49m\u001b[43m,\u001b[49m\u001b[43m \u001b[49m\u001b[43mkmeans\u001b[49m\u001b[43m)\u001b[49m\n",
      "\u001b[36mCell\u001b[39m\u001b[36m \u001b[39m\u001b[32mIn[47]\u001b[39m\u001b[32m, line 17\u001b[39m, in \u001b[36mprocess_and_store_to_pgvector\u001b[39m\u001b[34m(tickets, model, kmeans)\u001b[39m\n\u001b[32m      9\u001b[39m     new_ticket = Ticket(\n\u001b[32m     10\u001b[39m         ticket_id=ticket[\u001b[33m'\u001b[39m\u001b[33mticket_id\u001b[39m\u001b[33m'\u001b[39m],\n\u001b[32m     11\u001b[39m         text=ticket[\u001b[33m'\u001b[39m\u001b[33mtext\u001b[39m\u001b[33m'\u001b[39m],\n\u001b[32m     12\u001b[39m         embedding=embedding\n\u001b[32m     13\u001b[39m     )\n\u001b[32m     15\u001b[39m     session.add(new_ticket)\n\u001b[32m---> \u001b[39m\u001b[32m17\u001b[39m \u001b[43msession\u001b[49m\u001b[43m.\u001b[49m\u001b[43mcommit\u001b[49m\u001b[43m(\u001b[49m\u001b[43m)\u001b[49m\n\u001b[32m     18\u001b[39m \u001b[38;5;28mprint\u001b[39m(\u001b[33mf\u001b[39m\u001b[33m\"\u001b[39m\u001b[33mInserted \u001b[39m\u001b[38;5;132;01m{\u001b[39;00m\u001b[38;5;28mlen\u001b[39m(tickets)\u001b[38;5;132;01m}\u001b[39;00m\u001b[33m tickets into PostgreSQL with pgvector.\u001b[39m\u001b[33m\"\u001b[39m)\n",
      "\u001b[36mFile \u001b[39m\u001b[32md:\\codes\\langGraph_venv\\Lib\\site-packages\\sqlalchemy\\orm\\session.py:2032\u001b[39m, in \u001b[36mSession.commit\u001b[39m\u001b[34m(self)\u001b[39m\n\u001b[32m   2029\u001b[39m \u001b[38;5;28;01mif\u001b[39;00m trans \u001b[38;5;129;01mis\u001b[39;00m \u001b[38;5;28;01mNone\u001b[39;00m:\n\u001b[32m   2030\u001b[39m     trans = \u001b[38;5;28mself\u001b[39m._autobegin_t()\n\u001b[32m-> \u001b[39m\u001b[32m2032\u001b[39m \u001b[43mtrans\u001b[49m\u001b[43m.\u001b[49m\u001b[43mcommit\u001b[49m\u001b[43m(\u001b[49m\u001b[43m_to_root\u001b[49m\u001b[43m=\u001b[49m\u001b[38;5;28;43;01mTrue\u001b[39;49;00m\u001b[43m)\u001b[49m\n",
      "\u001b[36mFile \u001b[39m\u001b[32m<string>:2\u001b[39m, in \u001b[36mcommit\u001b[39m\u001b[34m(self, _to_root)\u001b[39m\n",
      "\u001b[36mFile \u001b[39m\u001b[32md:\\codes\\langGraph_venv\\Lib\\site-packages\\sqlalchemy\\orm\\state_changes.py:103\u001b[39m, in \u001b[36m_StateChange.declare_states.<locals>._go\u001b[39m\u001b[34m(fn, self, *arg, **kw)\u001b[39m\n\u001b[32m     97\u001b[39m current_state = \u001b[38;5;28mself\u001b[39m._state\n\u001b[32m     99\u001b[39m \u001b[38;5;28;01mif\u001b[39;00m (\n\u001b[32m    100\u001b[39m     has_prerequisite_states\n\u001b[32m    101\u001b[39m     \u001b[38;5;129;01mand\u001b[39;00m current_state \u001b[38;5;129;01mnot\u001b[39;00m \u001b[38;5;129;01min\u001b[39;00m prerequisite_state_collection\n\u001b[32m    102\u001b[39m ):\n\u001b[32m--> \u001b[39m\u001b[32m103\u001b[39m     \u001b[38;5;28;43mself\u001b[39;49m\u001b[43m.\u001b[49m\u001b[43m_raise_for_prerequisite_state\u001b[49m\u001b[43m(\u001b[49m\u001b[43mfn\u001b[49m\u001b[43m.\u001b[49m\u001b[34;43m__name__\u001b[39;49m\u001b[43m,\u001b[49m\u001b[43m \u001b[49m\u001b[43mcurrent_state\u001b[49m\u001b[43m)\u001b[49m\n\u001b[32m    105\u001b[39m next_state = \u001b[38;5;28mself\u001b[39m._next_state\n\u001b[32m    106\u001b[39m existing_fn = \u001b[38;5;28mself\u001b[39m._current_fn\n",
      "\u001b[36mFile \u001b[39m\u001b[32md:\\codes\\langGraph_venv\\Lib\\site-packages\\sqlalchemy\\orm\\session.py:973\u001b[39m, in \u001b[36mSessionTransaction._raise_for_prerequisite_state\u001b[39m\u001b[34m(self, operation_name, state)\u001b[39m\n\u001b[32m    971\u001b[39m \u001b[38;5;28;01mif\u001b[39;00m state \u001b[38;5;129;01mis\u001b[39;00m SessionTransactionState.DEACTIVE:\n\u001b[32m    972\u001b[39m     \u001b[38;5;28;01mif\u001b[39;00m \u001b[38;5;28mself\u001b[39m._rollback_exception:\n\u001b[32m--> \u001b[39m\u001b[32m973\u001b[39m         \u001b[38;5;28;01mraise\u001b[39;00m sa_exc.PendingRollbackError(\n\u001b[32m    974\u001b[39m             \u001b[33m\"\u001b[39m\u001b[33mThis Session\u001b[39m\u001b[33m'\u001b[39m\u001b[33ms transaction has been rolled back \u001b[39m\u001b[33m\"\u001b[39m\n\u001b[32m    975\u001b[39m             \u001b[33m\"\u001b[39m\u001b[33mdue to a previous exception during flush.\u001b[39m\u001b[33m\"\u001b[39m\n\u001b[32m    976\u001b[39m             \u001b[33m\"\u001b[39m\u001b[33m To begin a new transaction with this Session, \u001b[39m\u001b[33m\"\u001b[39m\n\u001b[32m    977\u001b[39m             \u001b[33m\"\u001b[39m\u001b[33mfirst issue Session.rollback().\u001b[39m\u001b[33m\"\u001b[39m\n\u001b[32m    978\u001b[39m             \u001b[33mf\u001b[39m\u001b[33m\"\u001b[39m\u001b[33m Original exception was: \u001b[39m\u001b[38;5;132;01m{\u001b[39;00m\u001b[38;5;28mself\u001b[39m._rollback_exception\u001b[38;5;132;01m}\u001b[39;00m\u001b[33m\"\u001b[39m,\n\u001b[32m    979\u001b[39m             code=\u001b[33m\"\u001b[39m\u001b[33m7s2a\u001b[39m\u001b[33m\"\u001b[39m,\n\u001b[32m    980\u001b[39m         )\n\u001b[32m    981\u001b[39m     \u001b[38;5;28;01melse\u001b[39;00m:\n\u001b[32m    982\u001b[39m         \u001b[38;5;28;01mraise\u001b[39;00m sa_exc.InvalidRequestError(\n\u001b[32m    983\u001b[39m             \u001b[33m\"\u001b[39m\u001b[33mThis session is in \u001b[39m\u001b[33m'\u001b[39m\u001b[33minactive\u001b[39m\u001b[33m'\u001b[39m\u001b[33m state, due to the \u001b[39m\u001b[33m\"\u001b[39m\n\u001b[32m    984\u001b[39m             \u001b[33m\"\u001b[39m\u001b[33mSQL transaction being rolled back; no further SQL \u001b[39m\u001b[33m\"\u001b[39m\n\u001b[32m    985\u001b[39m             \u001b[33m\"\u001b[39m\u001b[33mcan be emitted within this transaction.\u001b[39m\u001b[33m\"\u001b[39m\n\u001b[32m    986\u001b[39m         )\n",
      "\u001b[31mPendingRollbackError\u001b[39m: This Session's transaction has been rolled back due to a previous exception during flush. To begin a new transaction with this Session, first issue Session.rollback(). Original exception was: (builtins.ValueError) expected 768 dimensions, not 384\n[SQL: INSERT INTO tickets (ticket_id, text, embedding) SELECT p0::VARCHAR, p1::VARCHAR, p2::VECTOR(768) FROM (VALUES (%(ticket_id)s, %(text)s, %(embedding)s)) AS imp_sen(p0, p1, p2, sen_counter) ORDER BY sen_counter RETURNING tickets.id, tickets.id AS id__1]\n[parameters: [{'embedding': array([-6.63655475e-02,  3.42290588e-02,  1.24685112e-02, -2.55581066e-02,\n       -4.58992943e-02,  2.31425129e-02,  3.60830836e-02, -3. ... (7039 characters truncated) ... 45e-02,  4.56833746e-03],\n      dtype=float32), 'text': 'Cannot connect to the company VPN, it keeps saying authentication failed.', 'ticket_id': '1'}, {'embedding': array([ 3.21427062e-02, -4.40553539e-02,  2.69629080e-02,  1.07551329e-02,\n        1.67914126e-02, -3.76561992e-02, -3.93719375e-02,  4. ... (7025 characters truncated) ... -02,  2.12958250e-02, -3.29278223e-02],\n      dtype=float32), 'text': 'My Microsoft Outlook is not opening, it crashes on startup.', 'ticket_id': '2'}, {'embedding': array([-1.92928594e-02, -2.24530920e-02,  3.24990181e-03, -3.92881781e-02,\n        6.01377450e-02, -2.12627649e-03, -6.90801889e-02, -2. ... (7031 characters truncated) ... 5.04368730e-03, -7.34494580e-03],\n      dtype=float32), 'text': \"The new laptop I received won't boot up, it shows a black screen.\", 'ticket_id': '3'}, {'embedding': array([ 1.85625274e-02,  5.95447794e-02, -8.71186319e-04, -1.81658249e-02,\n       -2.79050320e-02,  5.88835329e-02, -7.10095093e-02, -2. ... (7031 characters truncated) ... 8.74158293e-02,  7.05249161e-02],\n      dtype=float32), 'text': \"I'm unable to access the shared drive, it says permission denied.\", 'ticket_id': '4'}, {'embedding': array([ 9.29281395e-03,  1.54157476e-02, -5.10715730e-02, -1.08511522e-02,\n        1.29002603e-02, -4.73905951e-02, -1.28359303e-01,  3. ... (7031 characters truncated) ... 6.66601732e-02,  3.39323357e-02],\n      dtype=float32), 'text': 'Excel is freezing frequently when I work with large spreadsheets.', 'ticket_id': '5'}, {'embedding': array([-4.92093898e-02, -2.78321560e-02, -8.86119455e-02,  2.39728019e-02,\n       -8.28019343e-04, -4.95178290e-02, -7.22196698e-02, -5. ... (7040 characters truncated) ... 6e-02,  3.13547179e-02],\n      dtype=float32), 'text': 'The printer on the 3rd floor is not working, documents are stuck in queue.', 'ticket_id': '6'}, {'embedding': array([ 6.32430008e-03, -6.00010566e-02, -4.80055101e-02, -8.23722258e-02,\n       -4.09136489e-02,  8.35997111e-04, -4.75735664e-02, -4. ... (7000 characters truncated) ... 1319359e-02,  5.71280122e-02, -3.80178951e-02, -3.89298834e-02],\n      dtype=float32), 'text': 'How do I reset my domain password?', 'ticket_id': '7'}]] (Background on this error at: https://sqlalche.me/e/20/7s2a)"
     ]
    }
   ],
   "source": [
    "sbert_model = SentenceTransformer(EMBEDDING_MODEL_NAME)\n",
    "kmeans = KMeans(n_clusters=1, random_state=42, n_init='auto')\n",
    "process_and_store_to_pgvector(sample_tickets, sbert_model, kmeans)"
   ]
  },
  {
   "cell_type": "code",
   "execution_count": 42,
   "id": "aa28712b",
   "metadata": {},
   "outputs": [
    {
     "name": "stderr",
     "output_type": "stream",
     "text": [
      "Batches: 100%|██████████| 1/1 [00:00<00:00, 48.27it/s]\n"
     ]
    }
   ],
   "source": [
    "texts = [ticket['text'] for ticket in sample_tickets]\n",
    "embeddings = sbert_model.encode(texts, show_progress_bar=True)\n",
    "cluster_ids = kmeans.fit_predict(embeddings)"
   ]
  },
  {
   "cell_type": "code",
   "execution_count": 46,
   "id": "1aa42440",
   "metadata": {},
   "outputs": [
    {
     "data": {
      "text/plain": [
       "(2, 384)"
      ]
     },
     "execution_count": 46,
     "metadata": {},
     "output_type": "execute_result"
    }
   ],
   "source": [
    "embeddings.shape"
   ]
  },
  {
   "cell_type": "code",
   "execution_count": null,
   "id": "ea67ec7f",
   "metadata": {},
   "outputs": [],
   "source": []
  }
 ],
 "metadata": {
  "kernelspec": {
   "display_name": "langGraph_venv",
   "language": "python",
   "name": "python3"
  },
  "language_info": {
   "codemirror_mode": {
    "name": "ipython",
    "version": 3
   },
   "file_extension": ".py",
   "mimetype": "text/x-python",
   "name": "python",
   "nbconvert_exporter": "python",
   "pygments_lexer": "ipython3",
   "version": "3.11.3"
  }
 },
 "nbformat": 4,
 "nbformat_minor": 5
}
